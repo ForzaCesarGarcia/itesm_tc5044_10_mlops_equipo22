{
 "cells": [
  {
   "cell_type": "markdown",
   "metadata": {},
   "source": [
    "Importando librerias necesarias"
   ]
  },
  {
   "cell_type": "code",
   "execution_count": 1,
   "metadata": {},
   "outputs": [
    {
     "name": "stdout",
     "output_type": "stream",
     "text": [
      "/Users/guvo/Library/CloudStorage/GoogleDrive-oskarguarneros@gmail.com/Mi unidad/Colab Notebooks/MNA/OPERACIONES DE APRENDIZAJE AUTOMÁTICO/itesm_tc5044_10_mlops_equipo22\n",
      "Libraries loaded\n"
     ]
    },
    {
     "name": "stderr",
     "output_type": "stream",
     "text": [
      "/Users/guvo/Library/CloudStorage/GoogleDrive-oskarguarneros@gmail.com/Mi unidad/Colab Notebooks/MNA/OPERACIONES DE APRENDIZAJE AUTOMÁTICO/itesm_tc5044_10_mlops_equipo22/venv/lib/python3.11/site-packages/IPython/core/magics/osm.py:417: UserWarning: This is now an optional IPython functionality, setting dhist requires you to install the `pickleshare` library.\n",
      "  self.shell.db['dhist'] = compress_dhist(dhist)[-100:]\n"
     ]
    }
   ],
   "source": [
    "import yaml\n",
    "import pandas as pd\n",
    "import numpy as np\n",
    "\n",
    "# MLFlow Libraries\n",
    "import mlflow\n",
    "\n",
    "# Plotting Libraries\n",
    "import matplotlib.pyplot as plt\n",
    "import seaborn as sns\n",
    "\n",
    "# Modeling Libraries\n",
    "from keras.models import load_model\n",
    "from tensorflow.keras.models import Sequential\n",
    "from tensorflow.keras.layers import Dense\n",
    "from sklearn.model_selection import train_test_split\n",
    "from sklearn.preprocessing import StandardScaler\n",
    "from sklearn.metrics import accuracy_score, precision_score, recall_score\n",
    "from sklearn.ensemble import RandomForestClassifier\n",
    "from sklearn.neighbors import KNeighborsClassifier\n",
    "\n",
    "# Setting Parent Folder\n",
    "%cd ..\n",
    "\n",
    "# Local Functions\n",
    "from src.data.data_transformation import data_transformer\n",
    "\n",
    "\n",
    "print('Libraries loaded')"
   ]
  },
  {
   "cell_type": "markdown",
   "metadata": {},
   "source": [
    "## 1 Config"
   ]
  },
  {
   "cell_type": "code",
   "execution_count": 2,
   "metadata": {},
   "outputs": [
    {
     "name": "stdout",
     "output_type": "stream",
     "text": [
      "{'base': None, 'data': {'input_data': 'data/Steel_industry_data.csv'}, 'train': {'test_size': 0.2, 'random_state': 42, 'activation': 'relu', 'activation_2': 'softmax', 'optimizer': 'adam', 'loss': 'sparse_categorical_crossentropy', 'epochs': 50, 'batch_size': 10, 'verbose': 1, 'axis': -1}, 'reports': {'model': 'models/steel_industry_model.keras'}}\n"
     ]
    }
   ],
   "source": [
    "with open('params.yaml') as conf_file:\n",
    "    config = yaml.safe_load(conf_file)\n",
    "\n",
    "print(config)"
   ]
  },
  {
   "cell_type": "markdown",
   "metadata": {},
   "source": [
    "## 2 Load dataset"
   ]
  },
  {
   "cell_type": "code",
   "execution_count": 3,
   "metadata": {},
   "outputs": [
    {
     "data": {
      "text/html": [
       "<div>\n",
       "<style scoped>\n",
       "    .dataframe tbody tr th:only-of-type {\n",
       "        vertical-align: middle;\n",
       "    }\n",
       "\n",
       "    .dataframe tbody tr th {\n",
       "        vertical-align: top;\n",
       "    }\n",
       "\n",
       "    .dataframe thead th {\n",
       "        text-align: right;\n",
       "    }\n",
       "</style>\n",
       "<table border=\"1\" class=\"dataframe\">\n",
       "  <thead>\n",
       "    <tr style=\"text-align: right;\">\n",
       "      <th></th>\n",
       "      <th>date</th>\n",
       "      <th>Usage_kWh</th>\n",
       "      <th>Lagging_Current_Reactive.Power_kVarh</th>\n",
       "      <th>Leading_Current_Reactive_Power_kVarh</th>\n",
       "      <th>CO2(tCO2)</th>\n",
       "      <th>Lagging_Current_Power_Factor</th>\n",
       "      <th>Leading_Current_Power_Factor</th>\n",
       "      <th>NSM</th>\n",
       "      <th>WeekStatus</th>\n",
       "      <th>Day_of_week</th>\n",
       "      <th>Load_Type</th>\n",
       "    </tr>\n",
       "  </thead>\n",
       "  <tbody>\n",
       "    <tr>\n",
       "      <th>0</th>\n",
       "      <td>01/01/2018 00:15</td>\n",
       "      <td>3.17</td>\n",
       "      <td>2.95</td>\n",
       "      <td>0.0</td>\n",
       "      <td>0.0</td>\n",
       "      <td>73.21</td>\n",
       "      <td>100.0</td>\n",
       "      <td>900</td>\n",
       "      <td>Weekday</td>\n",
       "      <td>Monday</td>\n",
       "      <td>Light_Load</td>\n",
       "    </tr>\n",
       "    <tr>\n",
       "      <th>1</th>\n",
       "      <td>01/01/2018 00:30</td>\n",
       "      <td>4.00</td>\n",
       "      <td>4.46</td>\n",
       "      <td>0.0</td>\n",
       "      <td>0.0</td>\n",
       "      <td>66.77</td>\n",
       "      <td>100.0</td>\n",
       "      <td>1800</td>\n",
       "      <td>Weekday</td>\n",
       "      <td>Monday</td>\n",
       "      <td>Light_Load</td>\n",
       "    </tr>\n",
       "    <tr>\n",
       "      <th>2</th>\n",
       "      <td>01/01/2018 00:45</td>\n",
       "      <td>3.24</td>\n",
       "      <td>3.28</td>\n",
       "      <td>0.0</td>\n",
       "      <td>0.0</td>\n",
       "      <td>70.28</td>\n",
       "      <td>100.0</td>\n",
       "      <td>2700</td>\n",
       "      <td>Weekday</td>\n",
       "      <td>Monday</td>\n",
       "      <td>Light_Load</td>\n",
       "    </tr>\n",
       "    <tr>\n",
       "      <th>3</th>\n",
       "      <td>01/01/2018 01:00</td>\n",
       "      <td>3.31</td>\n",
       "      <td>3.56</td>\n",
       "      <td>0.0</td>\n",
       "      <td>0.0</td>\n",
       "      <td>68.09</td>\n",
       "      <td>100.0</td>\n",
       "      <td>3600</td>\n",
       "      <td>Weekday</td>\n",
       "      <td>Monday</td>\n",
       "      <td>Light_Load</td>\n",
       "    </tr>\n",
       "    <tr>\n",
       "      <th>4</th>\n",
       "      <td>01/01/2018 01:15</td>\n",
       "      <td>3.82</td>\n",
       "      <td>4.50</td>\n",
       "      <td>0.0</td>\n",
       "      <td>0.0</td>\n",
       "      <td>64.72</td>\n",
       "      <td>100.0</td>\n",
       "      <td>4500</td>\n",
       "      <td>Weekday</td>\n",
       "      <td>Monday</td>\n",
       "      <td>Light_Load</td>\n",
       "    </tr>\n",
       "  </tbody>\n",
       "</table>\n",
       "</div>"
      ],
      "text/plain": [
       "               date  Usage_kWh  Lagging_Current_Reactive.Power_kVarh  \\\n",
       "0  01/01/2018 00:15       3.17                                  2.95   \n",
       "1  01/01/2018 00:30       4.00                                  4.46   \n",
       "2  01/01/2018 00:45       3.24                                  3.28   \n",
       "3  01/01/2018 01:00       3.31                                  3.56   \n",
       "4  01/01/2018 01:15       3.82                                  4.50   \n",
       "\n",
       "   Leading_Current_Reactive_Power_kVarh  CO2(tCO2)  \\\n",
       "0                                   0.0        0.0   \n",
       "1                                   0.0        0.0   \n",
       "2                                   0.0        0.0   \n",
       "3                                   0.0        0.0   \n",
       "4                                   0.0        0.0   \n",
       "\n",
       "   Lagging_Current_Power_Factor  Leading_Current_Power_Factor   NSM  \\\n",
       "0                         73.21                         100.0   900   \n",
       "1                         66.77                         100.0  1800   \n",
       "2                         70.28                         100.0  2700   \n",
       "3                         68.09                         100.0  3600   \n",
       "4                         64.72                         100.0  4500   \n",
       "\n",
       "  WeekStatus Day_of_week   Load_Type  \n",
       "0    Weekday      Monday  Light_Load  \n",
       "1    Weekday      Monday  Light_Load  \n",
       "2    Weekday      Monday  Light_Load  \n",
       "3    Weekday      Monday  Light_Load  \n",
       "4    Weekday      Monday  Light_Load  "
      ]
     },
     "execution_count": 3,
     "metadata": {},
     "output_type": "execute_result"
    }
   ],
   "source": [
    "data = pd.read_csv(config['data']['input_data'])\n",
    "data.head()"
   ]
  },
  {
   "cell_type": "markdown",
   "metadata": {},
   "source": [
    "Transforamción de Datos"
   ]
  },
  {
   "cell_type": "code",
   "execution_count": 4,
   "metadata": {},
   "outputs": [],
   "source": [
    "data = data_transformer(data)\n",
    "X = data[0]\n",
    "y = data[1]"
   ]
  },
  {
   "cell_type": "markdown",
   "metadata": {},
   "source": [
    "## 3 Training Model"
   ]
  },
  {
   "cell_type": "code",
   "execution_count": 5,
   "metadata": {},
   "outputs": [
    {
     "data": {
      "text/plain": [
       "int"
      ]
     },
     "execution_count": 5,
     "metadata": {},
     "output_type": "execute_result"
    }
   ],
   "source": [
    "type(config['train']['test_size'])\n",
    "type(config['train']['random_state'])"
   ]
  },
  {
   "cell_type": "code",
   "execution_count": 6,
   "metadata": {},
   "outputs": [],
   "source": [
    "\n",
    "X_train, X_test, y_train, y_test = train_test_split(X, y, test_size = config['train']['test_size'], random_state = config['train']['random_state'])"
   ]
  },
  {
   "cell_type": "markdown",
   "metadata": {},
   "source": [
    "### "
   ]
  },
  {
   "cell_type": "markdown",
   "metadata": {},
   "source": [
    "## 4.2 Save MLFlow"
   ]
  },
  {
   "cell_type": "code",
   "execution_count": 7,
   "metadata": {},
   "outputs": [
    {
     "data": {
      "text/plain": [
       "<Experiment: artifact_location='file:///Users/guvo/Library/CloudStorage/GoogleDrive-oskarguarneros%40gmail.com/Mi%20unidad/Colab%20Notebooks/MNA/OPERACIONES%20DE%20APRENDIZAJE%20AUTOMA%CC%81TICO/itesm_tc5044_10_mlops_equipo22/mlruns/745342019068782582', creation_time=1729373303669, experiment_id='745342019068782582', last_update_time=1729373303669, lifecycle_stage='active', name='Steel_Industry_Classification', tags={}>"
      ]
     },
     "execution_count": 7,
     "metadata": {},
     "output_type": "execute_result"
    }
   ],
   "source": [
    "mlflow.set_experiment(\"Steel_Industry_Classification\")"
   ]
  },
  {
   "cell_type": "code",
   "execution_count": 11,
   "metadata": {},
   "outputs": [],
   "source": [
    "from sklearn.metrics import accuracy_score, precision_score, recall_score\n",
    "\n",
    "def train_and_log_model(model, model_name, X_train, X_test, y_train, y_test, params):\n",
    "    with mlflow.start_run(run_name=model_name):\n",
    "        # Train the model\n",
    "        model.fit(X_train, y_train)\n",
    "        # Make predictions\n",
    "        y_pred = model.predict(X_test)\n",
    "        # Calculate metrics\n",
    "        acc = accuracy_score(y_test, y_pred)\n",
    "        prec = precision_score(y_test, y_pred, average='weighted')\n",
    "        rec = recall_score(y_test, y_pred, average='weighted')\n",
    "        # Log parameters and metrics\n",
    "        mlflow.log_params(params)\n",
    "        mlflow.log_metrics({\"accuracy\": acc, \"precision\": prec, \"recall\": rec})\n",
    "        # Log the model\n",
    "        mlflow.sklearn.log_model(model, artifact_path=\"models\")"
   ]
  },
  {
   "cell_type": "markdown",
   "metadata": {},
   "source": [
    "## RandomForestClassifier"
   ]
  },
  {
   "cell_type": "code",
   "execution_count": 9,
   "metadata": {},
   "outputs": [
    {
     "data": {
      "text/plain": [
       "<Experiment: artifact_location='file:///Users/guvo/Library/CloudStorage/GoogleDrive-oskarguarneros%40gmail.com/Mi%20unidad/Colab%20Notebooks/MNA/OPERACIONES%20DE%20APRENDIZAJE%20AUTOMA%CC%81TICO/itesm_tc5044_10_mlops_equipo22/mlruns/745342019068782582', creation_time=1729373303669, experiment_id='745342019068782582', last_update_time=1729373303669, lifecycle_stage='active', name='Steel_Industry_Classification', tags={}>"
      ]
     },
     "execution_count": 9,
     "metadata": {},
     "output_type": "execute_result"
    }
   ],
   "source": [
    "# RandomForestClassifier\n",
    "mlflow.set_experiment(\"Steel_Industry_Classification\")"
   ]
  },
  {
   "cell_type": "code",
   "execution_count": 12,
   "metadata": {},
   "outputs": [
    {
     "name": "stderr",
     "output_type": "stream",
     "text": [
      "2024/10/20 11:35:16 WARNING mlflow.models.model: Model logged without a signature and input example. Please set `input_example` parameter when logging the model to auto infer the model signature.\n"
     ]
    }
   ],
   "source": [
    "params_rf = {\"n_estimators\":150, \"max_depth\": 15, \"random_state\": 42}\n",
    "model_rf = RandomForestClassifier(**params_rf)\n",
    "train_and_log_model(\n",
    "    model=model_rf,\n",
    "    model_name=\"Random_Forest\",\n",
    "    X_train=X_train,\n",
    "    X_test=X_test,\n",
    "    y_train=y_train,\n",
    "    y_test=y_test,\n",
    "    params=params_rf\n",
    ")"
   ]
  },
  {
   "cell_type": "code",
   "execution_count": 13,
   "metadata": {},
   "outputs": [
    {
     "name": "stderr",
     "output_type": "stream",
     "text": [
      "2024/10/20 11:40:20 WARNING mlflow.models.model: Model logged without a signature and input example. Please set `input_example` parameter when logging the model to auto infer the model signature.\n"
     ]
    }
   ],
   "source": [
    "params_knn = {\"n_neighbors\": 3, \"weights\": \"uniform\"}\n",
    "model_knn = KNeighborsClassifier(**params_knn)\n",
    "train_and_log_model(\n",
    "    model=model_knn,\n",
    "    model_name=\"KNeighbors\",\n",
    "    X_train=X_train,\n",
    "    X_test=X_test,\n",
    "    y_train=y_train,\n",
    "    y_test=y_test,\n",
    "    params=params_knn\n",
    ")"
   ]
  },
  {
   "cell_type": "markdown",
   "metadata": {},
   "source": [
    "## 5.1 Model Prediction with MLFlow"
   ]
  },
  {
   "cell_type": "code",
   "execution_count": 14,
   "metadata": {},
   "outputs": [],
   "source": [
    "run_id = \"7af1a6585f98472c80e252bab23a9f7b\"\n",
    "logged_model = f'runs:/{run_id}/models'\n",
    "\n",
    "# Load model as a sklearn model.\n",
    "loaded_model = mlflow.sklearn.load_model(logged_model)"
   ]
  },
  {
   "cell_type": "code",
   "execution_count": 15,
   "metadata": {},
   "outputs": [
    {
     "name": "stdout",
     "output_type": "stream",
     "text": [
      "Reproduced Accuracy: 0.8778538812785388\n"
     ]
    }
   ],
   "source": [
    "y_pred_loaded = loaded_model.predict(X_test)\n",
    "acc_loaded = accuracy_score(y_test, y_pred_loaded)\n",
    "print(f\"Reproduced Accuracy: {acc_loaded}\")"
   ]
  },
  {
   "cell_type": "code",
   "execution_count": 16,
   "metadata": {},
   "outputs": [],
   "source": [
    "# Query MLflow tracking server for experiment data\n",
    "experiment_data = mlflow.search_runs(experiment_ids=['745342019068782582'])"
   ]
  },
  {
   "cell_type": "code",
   "execution_count": 27,
   "metadata": {},
   "outputs": [
    {
     "data": {
      "image/png": "[encoded data removed]",
      "text/plain": [
       "<Figure size 1800x600 with 3 Axes>"
      ]
     },
     "metadata": {},
     "output_type": "display_data"
    }
   ],
   "source": [
    "df_metrics = experiment_data[['tags.mlflow.runName', 'metrics.accuracy', 'metrics.precision', 'metrics.recall']]\n",
    "\n",
    "# Filtrar los valores más altos de cada métrica por modelo\n",
    "best_metrics_per_model = df_metrics.groupby('tags.mlflow.runName').max()\n",
    "\n",
    "# Creamos una nueva figura para mostrar solo el run más alto de cada modelo\n",
    "fig, axes = plt.subplots(1, 3, figsize=(18, 6))\n",
    "\n",
    "# Gráfico de accuracy por modelo (solo los más altos)\n",
    "best_metrics_per_model['metrics.accuracy'].plot(kind='bar', ax=axes[0])\n",
    "axes[0].set_title('Accuracy - Mejores Runs por Modelo')\n",
    "axes[0].set_ylabel('Accuracy')\n",
    "\n",
    "# Gráfico de precision por modelo (solo los más altos)\n",
    "best_metrics_per_model['metrics.precision'].plot(kind='bar', ax=axes[1], color='orange')\n",
    "axes[1].set_title('Precision - Mejores Runs por Modelo')\n",
    "axes[1].set_ylabel('Precision')\n",
    "\n",
    "# Gráfico de recall por modelo (solo los más altos)\n",
    "best_metrics_per_model['metrics.recall'].plot(kind='bar', ax=axes[2], color='green')\n",
    "axes[2].set_title('Recall - Mejores Runs por Modelo')\n",
    "axes[2].set_ylabel('Recall')\n",
    "\n",
    "# Ajustamos el layout para que los gráficos no se superpongan\n",
    "plt.tight_layout()\n",
    "plt.show()"
   ]
  }
 ],
 "metadata": {
  "kernelspec": {
   "display_name": "venv",
   "language": "python",
   "name": "python3"
  },
  "language_info": {
   "codemirror_mode": {
    "name": "ipython",
    "version": 3
   },
   "file_extension": ".py",
   "mimetype": "text/x-python",
   "name": "python",
   "nbconvert_exporter": "python",
   "pygments_lexer": "ipython3",
   "version": "3.11.7"
  }
 },
 "nbformat": 4,
 "nbformat_minor": 2
}
